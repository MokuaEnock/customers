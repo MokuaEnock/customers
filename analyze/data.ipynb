{
 "cells": [
  {
   "cell_type": "markdown",
   "metadata": {},
   "source": [
    "# Collecting data."
   ]
  },
  {
   "cell_type": "code",
   "execution_count": 35,
   "metadata": {},
   "outputs": [],
   "source": [
    "#importing modules\n",
    "import sqlite3\n",
    "\n",
    "#connect to database\n",
    "connection = sqlite3.connect(\"../customer.db\")\n",
    "cursor = connection.cursor()"
   ]
  },
  {
   "cell_type": "code",
   "execution_count": 36,
   "metadata": {},
   "outputs": [
    {
     "name": "stdout",
     "output_type": "stream",
     "text": [
      "[('table', 'Customers', 'Customers', 2, 'CREATE TABLE \"Customers\" (\\n\"Customer_ID\" INTEGER,\\n  \"Age\" INTEGER,\\n  \"Sex\" TEXT\\n)'), ('table', 'Purchase', 'Purchase', 498, 'CREATE TABLE \"Purchase\" (\\n\"Purchase_Date\" TIMESTAMP,\\n  \"Customer_ID\" INTEGER,\\n  \"Purchase_Channel\" TEXT,\\n  \"Product_ID\" INTEGER,\\n  \"Quantity\" INTEGER\\n)'), ('table', 'Products', 'Products', 38094, 'CREATE TABLE \"Products\" (\\n\"Product_ID\" INTEGER,\\n  \"Unit_Cost\" REAL,\\n  \"Category_type\" TEXT,\\n  \"Animal\" TEXT\\n)')]\n"
     ]
    }
   ],
   "source": [
    "#executing our scripts\n",
    "cursor.execute(\"SELECT * FROM sqlite_master\")\n",
    "result = cursor.fetchall()\n",
    "\n",
    "print(result)"
   ]
  },
  {
   "cell_type": "code",
   "execution_count": null,
   "metadata": {},
   "outputs": [],
   "source": []
  },
  {
   "cell_type": "code",
   "execution_count": null,
   "metadata": {},
   "outputs": [],
   "source": []
  }
 ],
 "metadata": {
  "kernelspec": {
   "display_name": "Python 3.10.6 64-bit",
   "language": "python",
   "name": "python3"
  },
  "language_info": {
   "codemirror_mode": {
    "name": "ipython",
    "version": 3
   },
   "file_extension": ".py",
   "mimetype": "text/x-python",
   "name": "python",
   "nbconvert_exporter": "python",
   "pygments_lexer": "ipython3",
   "version": "3.10.6"
  },
  "orig_nbformat": 4,
  "vscode": {
   "interpreter": {
    "hash": "31f2aee4e71d21fbe5cf8b01ff0e069b9275f58929596ceb00d14d90e3e16cd6"
   }
  }
 },
 "nbformat": 4,
 "nbformat_minor": 2
}
